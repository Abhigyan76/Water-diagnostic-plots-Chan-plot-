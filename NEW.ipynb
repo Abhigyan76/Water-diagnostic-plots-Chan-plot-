{
 "cells": [
  {
   "cell_type": "code",
   "execution_count": 1,
   "metadata": {},
   "outputs": [],
   "source": [
    "import pandas as pd\n",
    "import numpy as np\n",
    "import matplotlib.pyplot as plt\n",
    "%matplotlib inline\n",
    "import seaborn as sns"
   ]
  },
  {
   "cell_type": "code",
   "execution_count": 25,
   "metadata": {},
   "outputs": [],
   "source": [
    "df1=pd.read_csv(\"DF.csv\")\n",
    "df2=pd.read_excel(\"DF diff.xlsx\")"
   ]
  },
  {
   "cell_type": "code",
   "execution_count": 11,
   "metadata": {},
   "outputs": [
    {
     "data": {
      "text/html": [
       "<div>\n",
       "<style scoped>\n",
       "    .dataframe tbody tr th:only-of-type {\n",
       "        vertical-align: middle;\n",
       "    }\n",
       "\n",
       "    .dataframe tbody tr th {\n",
       "        vertical-align: top;\n",
       "    }\n",
       "\n",
       "    .dataframe thead th {\n",
       "        text-align: right;\n",
       "    }\n",
       "</style>\n",
       "<table border=\"1\" class=\"dataframe\">\n",
       "  <thead>\n",
       "    <tr style=\"text-align: right;\">\n",
       "      <th></th>\n",
       "      <th>MONTHLY OIL [m³]</th>\n",
       "      <th>MONTHLY WATER [m³]</th>\n",
       "      <th>Date</th>\n",
       "      <th>WOR</th>\n",
       "      <th>WOR'</th>\n",
       "      <th>Month_</th>\n",
       "    </tr>\n",
       "  </thead>\n",
       "  <tbody>\n",
       "    <tr>\n",
       "      <th>0</th>\n",
       "      <td>118.3</td>\n",
       "      <td>0.0</td>\n",
       "      <td>1/1/1997</td>\n",
       "      <td>0.000000</td>\n",
       "      <td>0.000000</td>\n",
       "      <td>3</td>\n",
       "    </tr>\n",
       "    <tr>\n",
       "      <th>1</th>\n",
       "      <td>9126.6</td>\n",
       "      <td>0.0</td>\n",
       "      <td>2/1/1997</td>\n",
       "      <td>0.000000</td>\n",
       "      <td>0.000000</td>\n",
       "      <td>6</td>\n",
       "    </tr>\n",
       "    <tr>\n",
       "      <th>2</th>\n",
       "      <td>13228.3</td>\n",
       "      <td>0.0</td>\n",
       "      <td>3/1/1997</td>\n",
       "      <td>0.000000</td>\n",
       "      <td>0.000000</td>\n",
       "      <td>10</td>\n",
       "    </tr>\n",
       "    <tr>\n",
       "      <th>3</th>\n",
       "      <td>10417.0</td>\n",
       "      <td>0.0</td>\n",
       "      <td>4/1/1997</td>\n",
       "      <td>0.000000</td>\n",
       "      <td>0.000000</td>\n",
       "      <td>15</td>\n",
       "    </tr>\n",
       "    <tr>\n",
       "      <th>4</th>\n",
       "      <td>7370.6</td>\n",
       "      <td>0.0</td>\n",
       "      <td>5/1/1997</td>\n",
       "      <td>0.000000</td>\n",
       "      <td>0.000000</td>\n",
       "      <td>21</td>\n",
       "    </tr>\n",
       "    <tr>\n",
       "      <th>...</th>\n",
       "      <td>...</td>\n",
       "      <td>...</td>\n",
       "      <td>...</td>\n",
       "      <td>...</td>\n",
       "      <td>...</td>\n",
       "      <td>...</td>\n",
       "    </tr>\n",
       "    <tr>\n",
       "      <th>306</th>\n",
       "      <td>1011.2</td>\n",
       "      <td>6226.2</td>\n",
       "      <td>7/1/2022</td>\n",
       "      <td>6.157239</td>\n",
       "      <td>0.019991</td>\n",
       "      <td>47586</td>\n",
       "    </tr>\n",
       "    <tr>\n",
       "      <th>307</th>\n",
       "      <td>1675.3</td>\n",
       "      <td>7012.4</td>\n",
       "      <td>8/1/2022</td>\n",
       "      <td>4.185758</td>\n",
       "      <td>0.013546</td>\n",
       "      <td>47895</td>\n",
       "    </tr>\n",
       "    <tr>\n",
       "      <th>308</th>\n",
       "      <td>1877.1</td>\n",
       "      <td>8262.9</td>\n",
       "      <td>9/1/2022</td>\n",
       "      <td>4.401950</td>\n",
       "      <td>0.014200</td>\n",
       "      <td>48205</td>\n",
       "    </tr>\n",
       "    <tr>\n",
       "      <th>309</th>\n",
       "      <td>1956.7</td>\n",
       "      <td>7720.5</td>\n",
       "      <td>10/1/2022</td>\n",
       "      <td>3.945674</td>\n",
       "      <td>0.012687</td>\n",
       "      <td>48516</td>\n",
       "    </tr>\n",
       "    <tr>\n",
       "      <th>310</th>\n",
       "      <td>1977.6</td>\n",
       "      <td>6715.4</td>\n",
       "      <td>11/1/2022</td>\n",
       "      <td>3.395732</td>\n",
       "      <td>0.010884</td>\n",
       "      <td>48828</td>\n",
       "    </tr>\n",
       "  </tbody>\n",
       "</table>\n",
       "<p>311 rows × 6 columns</p>\n",
       "</div>"
      ],
      "text/plain": [
       "     MONTHLY OIL [m³]      MONTHLY WATER [m³]           Date       WOR  \\\n",
       "0                   118.3                     0.0   1/1/1997  0.000000   \n",
       "1                  9126.6                     0.0   2/1/1997  0.000000   \n",
       "2                 13228.3                     0.0   3/1/1997  0.000000   \n",
       "3                 10417.0                     0.0   4/1/1997  0.000000   \n",
       "4                  7370.6                     0.0   5/1/1997  0.000000   \n",
       "..                    ...                     ...        ...       ...   \n",
       "306                1011.2                  6226.2   7/1/2022  6.157239   \n",
       "307                1675.3                  7012.4   8/1/2022  4.185758   \n",
       "308                1877.1                  8262.9   9/1/2022  4.401950   \n",
       "309                1956.7                  7720.5  10/1/2022  3.945674   \n",
       "310                1977.6                  6715.4  11/1/2022  3.395732   \n",
       "\n",
       "         WOR'  Month_  \n",
       "0    0.000000       3  \n",
       "1    0.000000       6  \n",
       "2    0.000000      10  \n",
       "3    0.000000      15  \n",
       "4    0.000000      21  \n",
       "..        ...     ...  \n",
       "306  0.019991   47586  \n",
       "307  0.013546   47895  \n",
       "308  0.014200   48205  \n",
       "309  0.012687   48516  \n",
       "310  0.010884   48828  \n",
       "\n",
       "[311 rows x 6 columns]"
      ]
     },
     "execution_count": 11,
     "metadata": {},
     "output_type": "execute_result"
    }
   ],
   "source": [
    "df1"
   ]
  },
  {
   "cell_type": "code",
   "execution_count": 26,
   "metadata": {},
   "outputs": [
    {
     "data": {
      "text/html": [
       "<div>\n",
       "<style scoped>\n",
       "    .dataframe tbody tr th:only-of-type {\n",
       "        vertical-align: middle;\n",
       "    }\n",
       "\n",
       "    .dataframe tbody tr th {\n",
       "        vertical-align: top;\n",
       "    }\n",
       "\n",
       "    .dataframe thead th {\n",
       "        text-align: right;\n",
       "    }\n",
       "</style>\n",
       "<table border=\"1\" class=\"dataframe\">\n",
       "  <thead>\n",
       "    <tr style=\"text-align: right;\">\n",
       "      <th></th>\n",
       "      <th>MONTHLY OIL [m³]</th>\n",
       "      <th>MONTHLY WATER [m³]</th>\n",
       "      <th>Date</th>\n",
       "      <th>WOR</th>\n",
       "      <th>WOR'</th>\n",
       "      <th>Month_</th>\n",
       "    </tr>\n",
       "  </thead>\n",
       "  <tbody>\n",
       "    <tr>\n",
       "      <th>0</th>\n",
       "      <td>838.7</td>\n",
       "      <td>0.0</td>\n",
       "      <td>2006-03-01</td>\n",
       "      <td>0.000000</td>\n",
       "      <td>0.000000</td>\n",
       "      <td>48940</td>\n",
       "    </tr>\n",
       "    <tr>\n",
       "      <th>1</th>\n",
       "      <td>1575.0</td>\n",
       "      <td>30.5</td>\n",
       "      <td>2006-04-01</td>\n",
       "      <td>0.019365</td>\n",
       "      <td>0.000171</td>\n",
       "      <td>49053</td>\n",
       "    </tr>\n",
       "    <tr>\n",
       "      <th>2</th>\n",
       "      <td>1992.0</td>\n",
       "      <td>20.1</td>\n",
       "      <td>2006-05-01</td>\n",
       "      <td>0.010090</td>\n",
       "      <td>0.000089</td>\n",
       "      <td>49167</td>\n",
       "    </tr>\n",
       "    <tr>\n",
       "      <th>3</th>\n",
       "      <td>1937.2</td>\n",
       "      <td>19.6</td>\n",
       "      <td>2006-06-01</td>\n",
       "      <td>0.010118</td>\n",
       "      <td>0.000088</td>\n",
       "      <td>49282</td>\n",
       "    </tr>\n",
       "    <tr>\n",
       "      <th>4</th>\n",
       "      <td>1995.5</td>\n",
       "      <td>20.2</td>\n",
       "      <td>2006-07-01</td>\n",
       "      <td>0.010123</td>\n",
       "      <td>0.000087</td>\n",
       "      <td>49398</td>\n",
       "    </tr>\n",
       "    <tr>\n",
       "      <th>...</th>\n",
       "      <td>...</td>\n",
       "      <td>...</td>\n",
       "      <td>...</td>\n",
       "      <td>...</td>\n",
       "      <td>...</td>\n",
       "      <td>...</td>\n",
       "    </tr>\n",
       "    <tr>\n",
       "      <th>306</th>\n",
       "      <td>26.5</td>\n",
       "      <td>72.1</td>\n",
       "      <td>2015-09-01</td>\n",
       "      <td>2.720755</td>\n",
       "      <td>0.012039</td>\n",
       "      <td>102534</td>\n",
       "    </tr>\n",
       "    <tr>\n",
       "      <th>307</th>\n",
       "      <td>60.4</td>\n",
       "      <td>37.9</td>\n",
       "      <td>2015-10-01</td>\n",
       "      <td>0.627483</td>\n",
       "      <td>0.002764</td>\n",
       "      <td>102761</td>\n",
       "    </tr>\n",
       "    <tr>\n",
       "      <th>308</th>\n",
       "      <td>18.9</td>\n",
       "      <td>75.3</td>\n",
       "      <td>2015-11-01</td>\n",
       "      <td>3.984127</td>\n",
       "      <td>0.017474</td>\n",
       "      <td>102989</td>\n",
       "    </tr>\n",
       "    <tr>\n",
       "      <th>309</th>\n",
       "      <td>33.6</td>\n",
       "      <td>81.4</td>\n",
       "      <td>2015-12-01</td>\n",
       "      <td>2.422619</td>\n",
       "      <td>0.010579</td>\n",
       "      <td>103218</td>\n",
       "    </tr>\n",
       "    <tr>\n",
       "      <th>310</th>\n",
       "      <td>33.4</td>\n",
       "      <td>67.8</td>\n",
       "      <td>2016-01-01</td>\n",
       "      <td>2.029940</td>\n",
       "      <td>0.008826</td>\n",
       "      <td>103448</td>\n",
       "    </tr>\n",
       "  </tbody>\n",
       "</table>\n",
       "<p>311 rows × 6 columns</p>\n",
       "</div>"
      ],
      "text/plain": [
       "     MONTHLY OIL [m³]      MONTHLY WATER [m³]           Date       WOR  \\\n",
       "0                   838.7                     0.0 2006-03-01  0.000000   \n",
       "1                  1575.0                    30.5 2006-04-01  0.019365   \n",
       "2                  1992.0                    20.1 2006-05-01  0.010090   \n",
       "3                  1937.2                    19.6 2006-06-01  0.010118   \n",
       "4                  1995.5                    20.2 2006-07-01  0.010123   \n",
       "..                    ...                     ...        ...       ...   \n",
       "306                  26.5                    72.1 2015-09-01  2.720755   \n",
       "307                  60.4                    37.9 2015-10-01  0.627483   \n",
       "308                  18.9                    75.3 2015-11-01  3.984127   \n",
       "309                  33.6                    81.4 2015-12-01  2.422619   \n",
       "310                  33.4                    67.8 2016-01-01  2.029940   \n",
       "\n",
       "         WOR'  Month_  \n",
       "0    0.000000   48940  \n",
       "1    0.000171   49053  \n",
       "2    0.000089   49167  \n",
       "3    0.000088   49282  \n",
       "4    0.000087   49398  \n",
       "..        ...     ...  \n",
       "306  0.012039  102534  \n",
       "307  0.002764  102761  \n",
       "308  0.017474  102989  \n",
       "309  0.010579  103218  \n",
       "310  0.008826  103448  \n",
       "\n",
       "[311 rows x 6 columns]"
      ]
     },
     "execution_count": 26,
     "metadata": {},
     "output_type": "execute_result"
    }
   ],
   "source": [
    "df2"
   ]
  },
  {
   "cell_type": "code",
   "execution_count": 28,
   "metadata": {},
   "outputs": [],
   "source": [
    "df3=pd.concat([df1,df2],ignore_index=True)"
   ]
  },
  {
   "cell_type": "code",
   "execution_count": 4,
   "metadata": {},
   "outputs": [
    {
     "data": {
      "image/png": "[encoded data removed]",
      "text/plain": [
       "<Figure size 800x400 with 1 Axes>"
      ]
     },
     "metadata": {},
     "output_type": "display_data"
    }
   ],
   "source": [
    "plt.figure(figsize=(8, 4))\n",
    "plt.scatter(df1['Month_'], df1['WOR'], label='WOR', color='blue', marker='o', s=10)\n",
    "plt.scatter(df1['Month_'], df1[\"WOR'\"], label=\"WOR'\", color='red', marker='s', s=10)\n",
    "plt.xscale('log')\n",
    "plt.yscale('log')\n",
    "\n",
    "plt.xlabel('Month_')\n",
    "plt.ylabel(\"WOR/WOR'\")\n",
    "plt.legend()\n",
    "plt.title('CHAN PLOT')\n",
    "plt.grid(True)\n",
    "plt.show()"
   ]
  },
  {
   "cell_type": "code",
   "execution_count": 7,
   "metadata": {},
   "outputs": [
    {
     "data": {
      "image/png": "[encoded data removed]",
      "text/plain": [
       "<Figure size 800x400 with 1 Axes>"
      ]
     },
     "metadata": {},
     "output_type": "display_data"
    }
   ],
   "source": [
    "patterns = {\n",
    "    'Constant WOR': {'WOR': (np.log(0.1), np.log(1)), \"WOR'\": (np.log(1), np.log(2))},\n",
    "    'Normal Displacement': {'WOR': (np.log(1), np.log(1)), \"WOR'\": (np.log(1), np.log(3))},\n",
    "    'Multilayer Channeling': {'WOR': (np.log(1), np.log(2)), \"WOR'\": (np.log(3), np.log(10))},\n",
    "    'Rapid Channeling': {'WOR': (np.log(2), np.log(10)), \"WOR'\": (np.log(2), np.log(10))}\n",
    "}\n",
    "\n",
    "point_patterns = []\n",
    "\n",
    "for index, row in df1.iterrows():\n",
    "    wor = row['WOR']\n",
    "    wor_prime = row[\"WOR'\"]\n",
    "\n",
    "    pattern_matched = None\n",
    "    for pattern_name, criteria in patterns.items():\n",
    "        wor_range = criteria['WOR']\n",
    "        wor_prime_range = criteria[\"WOR'\"]\n",
    "        \n",
    "        if (wor_range[0] <= wor <= wor_range[1] and\n",
    "            wor_prime_range[0] <= wor_prime <= wor_prime_range[1]):\n",
    "            pattern_matched = pattern_name\n",
    "            break  # Exit the loop once a pattern is found\n",
    "    \n",
    "    point_patterns.append(pattern_matched)\n",
    "\n",
    "# Create a color map for different patterns\n",
    "pattern_colors = {\n",
    "    'Constant WOR': 'r',\n",
    "    'Normal Displacement': 'g',\n",
    "    'Multilayer Channeling': 'b',\n",
    "    'Rapid Channeling': 'y'\n",
    "}\n",
    "\n",
    "# Create a list of colors corresponding to each point's pattern\n",
    "point_colors = [pattern_colors[pattern] if pattern in pattern_colors else 'k' for pattern in point_patterns]\n",
    "\n",
    "# Plot the points with colors\n",
    "plt.figure(figsize=(8, 4))\n",
    "plt.scatter(df1['WOR'], df1[\"WOR'\"], label='WOR', c=point_colors, marker='o', s=10)\n",
    "plt.xscale('log')\n",
    "plt.yscale('log')\n",
    "plt.xlabel('WOR')\n",
    "plt.ylabel(\"WOR'\")\n",
    "plt.legend()\n",
    "plt.title('PLOT')\n",
    "plt.grid(True)\n",
    "plt.show()\n"
   ]
  },
  {
   "cell_type": "code",
   "execution_count": 10,
   "metadata": {},
   "outputs": [],
   "source": [
    "df1.reset_index(drop=True, inplace=True)"
   ]
  },
  {
   "cell_type": "code",
   "execution_count": 29,
   "metadata": {},
   "outputs": [
    {
     "name": "stderr",
     "output_type": "stream",
     "text": [
      "C:\\Users\\Abhigyan\\AppData\\Local\\Temp\\ipykernel_14872\\2292549150.py:13: RuntimeWarning: invalid value encountered in double_scalars\n",
      "  wor_diff = abs(row['WOR'] - df3.at[index + 1, 'WOR'])\n",
      "C:\\Users\\Abhigyan\\AppData\\Local\\Temp\\ipykernel_14872\\2292549150.py:14: RuntimeWarning: invalid value encountered in double_scalars\n",
      "  wor_prime_diff = abs(row[\"WOR'\"] - df3.at[index + 1, \"WOR'\"])\n"
     ]
    },
    {
     "ename": "ValueError",
     "evalue": "Length of values (621) does not match length of index (622)",
     "output_type": "error",
     "traceback": [
      "\u001b[1;31m---------------------------------------------------------------------------\u001b[0m",
      "\u001b[1;31mValueError\u001b[0m                                Traceback (most recent call last)",
      "\u001b[1;32mc:\\Users\\Abhigyan\\Desktop\\Chan plot\\NEW.ipynb Cell 9\u001b[0m line \u001b[0;36m<cell line: 32>\u001b[1;34m()\u001b[0m\n\u001b[0;32m     <a href='vscode-notebook-cell:/c%3A/Users/Abhigyan/Desktop/Chan%20plot/NEW.ipynb#W5sZmlsZQ%3D%3D?line=29'>30</a>\u001b[0m df3\u001b[39m.\u001b[39mreset_index(drop\u001b[39m=\u001b[39m\u001b[39mTrue\u001b[39;00m, inplace\u001b[39m=\u001b[39m\u001b[39mTrue\u001b[39;00m)\n\u001b[0;32m     <a href='vscode-notebook-cell:/c%3A/Users/Abhigyan/Desktop/Chan%20plot/NEW.ipynb#W5sZmlsZQ%3D%3D?line=30'>31</a>\u001b[0m \u001b[39m# Add the identified pattern information to the DataFrame\u001b[39;00m\n\u001b[1;32m---> <a href='vscode-notebook-cell:/c%3A/Users/Abhigyan/Desktop/Chan%20plot/NEW.ipynb#W5sZmlsZQ%3D%3D?line=31'>32</a>\u001b[0m df3[\u001b[39m'\u001b[39;49m\u001b[39mPattern\u001b[39;49m\u001b[39m'\u001b[39;49m] \u001b[39m=\u001b[39m pattern_found\n",
      "File \u001b[1;32mc:\\Users\\Abhigyan\\AppData\\Local\\Programs\\Python\\Python310\\lib\\site-packages\\pandas\\core\\frame.py:3980\u001b[0m, in \u001b[0;36mDataFrame.__setitem__\u001b[1;34m(self, key, value)\u001b[0m\n\u001b[0;32m   3977\u001b[0m     \u001b[39mself\u001b[39m\u001b[39m.\u001b[39m_setitem_array([key], value)\n\u001b[0;32m   3978\u001b[0m \u001b[39melse\u001b[39;00m:\n\u001b[0;32m   3979\u001b[0m     \u001b[39m# set column\u001b[39;00m\n\u001b[1;32m-> 3980\u001b[0m     \u001b[39mself\u001b[39;49m\u001b[39m.\u001b[39;49m_set_item(key, value)\n",
      "File \u001b[1;32mc:\\Users\\Abhigyan\\AppData\\Local\\Programs\\Python\\Python310\\lib\\site-packages\\pandas\\core\\frame.py:4174\u001b[0m, in \u001b[0;36mDataFrame._set_item\u001b[1;34m(self, key, value)\u001b[0m\n\u001b[0;32m   4164\u001b[0m \u001b[39mdef\u001b[39;00m \u001b[39m_set_item\u001b[39m(\u001b[39mself\u001b[39m, key, value) \u001b[39m-\u001b[39m\u001b[39m>\u001b[39m \u001b[39mNone\u001b[39;00m:\n\u001b[0;32m   4165\u001b[0m     \u001b[39m\"\"\"\u001b[39;00m\n\u001b[0;32m   4166\u001b[0m \u001b[39m    Add series to DataFrame in specified column.\u001b[39;00m\n\u001b[0;32m   4167\u001b[0m \n\u001b[1;32m   (...)\u001b[0m\n\u001b[0;32m   4172\u001b[0m \u001b[39m    ensure homogeneity.\u001b[39;00m\n\u001b[0;32m   4173\u001b[0m \u001b[39m    \"\"\"\u001b[39;00m\n\u001b[1;32m-> 4174\u001b[0m     value \u001b[39m=\u001b[39m \u001b[39mself\u001b[39;49m\u001b[39m.\u001b[39;49m_sanitize_column(value)\n\u001b[0;32m   4176\u001b[0m     \u001b[39mif\u001b[39;00m (\n\u001b[0;32m   4177\u001b[0m         key \u001b[39min\u001b[39;00m \u001b[39mself\u001b[39m\u001b[39m.\u001b[39mcolumns\n\u001b[0;32m   4178\u001b[0m         \u001b[39mand\u001b[39;00m value\u001b[39m.\u001b[39mndim \u001b[39m==\u001b[39m \u001b[39m1\u001b[39m\n\u001b[0;32m   4179\u001b[0m         \u001b[39mand\u001b[39;00m \u001b[39mnot\u001b[39;00m is_extension_array_dtype(value)\n\u001b[0;32m   4180\u001b[0m     ):\n\u001b[0;32m   4181\u001b[0m         \u001b[39m# broadcast across multiple columns if necessary\u001b[39;00m\n\u001b[0;32m   4182\u001b[0m         \u001b[39mif\u001b[39;00m \u001b[39mnot\u001b[39;00m \u001b[39mself\u001b[39m\u001b[39m.\u001b[39mcolumns\u001b[39m.\u001b[39mis_unique \u001b[39mor\u001b[39;00m \u001b[39misinstance\u001b[39m(\u001b[39mself\u001b[39m\u001b[39m.\u001b[39mcolumns, MultiIndex):\n",
      "File \u001b[1;32mc:\\Users\\Abhigyan\\AppData\\Local\\Programs\\Python\\Python310\\lib\\site-packages\\pandas\\core\\frame.py:4915\u001b[0m, in \u001b[0;36mDataFrame._sanitize_column\u001b[1;34m(self, value)\u001b[0m\n\u001b[0;32m   4912\u001b[0m     \u001b[39mreturn\u001b[39;00m _reindex_for_setitem(Series(value), \u001b[39mself\u001b[39m\u001b[39m.\u001b[39mindex)\n\u001b[0;32m   4914\u001b[0m \u001b[39mif\u001b[39;00m is_list_like(value):\n\u001b[1;32m-> 4915\u001b[0m     com\u001b[39m.\u001b[39;49mrequire_length_match(value, \u001b[39mself\u001b[39;49m\u001b[39m.\u001b[39;49mindex)\n\u001b[0;32m   4916\u001b[0m \u001b[39mreturn\u001b[39;00m sanitize_array(value, \u001b[39mself\u001b[39m\u001b[39m.\u001b[39mindex, copy\u001b[39m=\u001b[39m\u001b[39mTrue\u001b[39;00m, allow_2d\u001b[39m=\u001b[39m\u001b[39mTrue\u001b[39;00m)\n",
      "File \u001b[1;32mc:\\Users\\Abhigyan\\AppData\\Local\\Programs\\Python\\Python310\\lib\\site-packages\\pandas\\core\\common.py:571\u001b[0m, in \u001b[0;36mrequire_length_match\u001b[1;34m(data, index)\u001b[0m\n\u001b[0;32m    567\u001b[0m \u001b[39m\"\"\"\u001b[39;00m\n\u001b[0;32m    568\u001b[0m \u001b[39mCheck the length of data matches the length of the index.\u001b[39;00m\n\u001b[0;32m    569\u001b[0m \u001b[39m\"\"\"\u001b[39;00m\n\u001b[0;32m    570\u001b[0m \u001b[39mif\u001b[39;00m \u001b[39mlen\u001b[39m(data) \u001b[39m!=\u001b[39m \u001b[39mlen\u001b[39m(index):\n\u001b[1;32m--> 571\u001b[0m     \u001b[39mraise\u001b[39;00m \u001b[39mValueError\u001b[39;00m(\n\u001b[0;32m    572\u001b[0m         \u001b[39m\"\u001b[39m\u001b[39mLength of values \u001b[39m\u001b[39m\"\u001b[39m\n\u001b[0;32m    573\u001b[0m         \u001b[39mf\u001b[39m\u001b[39m\"\u001b[39m\u001b[39m(\u001b[39m\u001b[39m{\u001b[39;00m\u001b[39mlen\u001b[39m(data)\u001b[39m}\u001b[39;00m\u001b[39m) \u001b[39m\u001b[39m\"\u001b[39m\n\u001b[0;32m    574\u001b[0m         \u001b[39m\"\u001b[39m\u001b[39mdoes not match length of index \u001b[39m\u001b[39m\"\u001b[39m\n\u001b[0;32m    575\u001b[0m         \u001b[39mf\u001b[39m\u001b[39m\"\u001b[39m\u001b[39m(\u001b[39m\u001b[39m{\u001b[39;00m\u001b[39mlen\u001b[39m(index)\u001b[39m}\u001b[39;00m\u001b[39m)\u001b[39m\u001b[39m\"\u001b[39m\n\u001b[0;32m    576\u001b[0m     )\n",
      "\u001b[1;31mValueError\u001b[0m: Length of values (621) does not match length of index (622)"
     ]
    }
   ],
   "source": [
    "patterns = {\n",
    "    'Constant WOR': {'WOR': (np.log(0.1), np.log(1)), \"WOR'\": (np.log(1), np.log(2))},\n",
    "    'Normal Displacement': {'WOR': (np.log(1), np.log(1)), \"WOR'\": (np.log(1), np.log(3))},\n",
    "    'Multilayer Channeling': {'WOR': (np.log(1), np.log(2)), \"WOR'\": (np.log(3), np.log(10))},\n",
    "    'Rapid Channeling': {'WOR': (np.log(2), np.log(10)), \"WOR'\": (np.log(2), np.log(10))}\n",
    "}\n",
    "\n",
    "# Initialize a variable to store the identified pattern for each row\n",
    "pattern_found = []\n",
    "\n",
    "# Iterate through the DataFrame rows up to the second-to-last row\n",
    "for index, row in df3.iloc[:-1].iterrows():  # Exclude the last row\n",
    "    wor_diff = abs(row['WOR'] - df3.at[index + 1, 'WOR'])\n",
    "    wor_prime_diff = abs(row[\"WOR'\"] - df3.at[index + 1, \"WOR'\"])\n",
    "    \n",
    "    pattern_matched = False\n",
    "    for pattern_name, criteria in patterns.items():\n",
    "        wor_diff_range = criteria['WOR']\n",
    "        wor_prime_diff_range = criteria[\"WOR'\"]\n",
    "        \n",
    "        if (wor_diff_range[0] <= wor_diff <= wor_diff_range[1] and\n",
    "            wor_prime_diff_range[0] <= wor_prime_diff <= wor_prime_diff_range[1]):\n",
    "            pattern_found.append(pattern_name)\n",
    "            pattern_matched = True\n",
    "            break  # Exit the loop once a pattern is found\n",
    "    \n",
    "    # If no pattern matched, append None to indicate no pattern\n",
    "    if not pattern_matched:\n",
    "        pattern_found.append(None)\n",
    "df3.reset_index(drop=True, inplace=True)\n",
    "# Add the identified pattern information to the DataFrame\n",
    "df3['Pattern'] = pattern_found"
   ]
  },
  {
   "cell_type": "code",
   "execution_count": 30,
   "metadata": {},
   "outputs": [
    {
     "name": "stderr",
     "output_type": "stream",
     "text": [
      "C:\\Users\\Abhigyan\\AppData\\Local\\Temp\\ipykernel_14872\\1286255782.py:6: RuntimeWarning: invalid value encountered in double_scalars\n",
      "  wor_diff = abs(row['WOR'] - df3.at[index + 1, 'WOR'])\n",
      "C:\\Users\\Abhigyan\\AppData\\Local\\Temp\\ipykernel_14872\\1286255782.py:7: RuntimeWarning: invalid value encountered in double_scalars\n",
      "  wor_prime_diff = abs(row[\"WOR'\"] - df3.at[index + 1, \"WOR'\"])\n"
     ]
    }
   ],
   "source": [
    "# Initialize a variable to store the identified pattern for each row\n",
    "pattern_found = []\n",
    "\n",
    "# Iterate through the DataFrame rows up to the second-to-last row\n",
    "for index, row in df3.iloc[:-1].iterrows():  # Exclude the last row\n",
    "    wor_diff = abs(row['WOR'] - df3.at[index + 1, 'WOR'])\n",
    "    wor_prime_diff = abs(row[\"WOR'\"] - df3.at[index + 1, \"WOR'\"])\n",
    "    \n",
    "    pattern_matched = False\n",
    "    for pattern_name, criteria in patterns.items():\n",
    "        wor_diff_range = criteria['WOR']\n",
    "        wor_prime_diff_range = criteria[\"WOR'\"]\n",
    "        \n",
    "        if (wor_diff_range[0] <= wor_diff <= wor_diff_range[1] and\n",
    "            wor_prime_diff_range[0] <= wor_prime_diff <= wor_prime_diff_range[1]):\n",
    "            pattern_found.append(pattern_name)\n",
    "            pattern_matched = True\n",
    "            break  # Exit the loop once a pattern is found\n",
    "    \n",
    "    # If no pattern matched, append None to indicate no pattern\n",
    "    if not pattern_matched:\n",
    "        pattern_found.append(None)\n",
    "\n",
    "# Add a placeholder value (e.g., None) for the last row\n",
    "pattern_found.append(None)\n",
    "\n",
    "# Add the identified pattern information to the DataFrame\n",
    "df3.reset_index(drop=True, inplace=True)\n",
    "df3['Pattern'] = pattern_found\n"
   ]
  },
  {
   "cell_type": "code",
   "execution_count": 31,
   "metadata": {},
   "outputs": [
    {
     "data": {
      "image/png": "[encoded data removed]",
      "text/plain": [
       "<Figure size 1000x600 with 1 Axes>"
      ]
     },
     "metadata": {},
     "output_type": "display_data"
    }
   ],
   "source": [
    "plt.figure(figsize=(10, 6))\n",
    "\n",
    "# Define colors or markers for each pattern\n",
    "pattern_colors = {\n",
    "    'Constant WOR': 'r',\n",
    "    'Normal Displacement': 'g',\n",
    "    'Multilayer Channeling': 'b',\n",
    "    'Rapid Channeling': 'y'\n",
    "}\n",
    "\n",
    "for pattern, color in pattern_colors.items():\n",
    "    pattern_df = df3[df3['Pattern'] == pattern]\n",
    "    if not pattern_df.empty:\n",
    "        plt.scatter(pattern_df.index, pattern_df['WOR'], label=pattern, c=color)\n",
    "\n",
    "plt.xlabel('Index')\n",
    "plt.ylabel('WOR')\n",
    "plt.legend()\n",
    "plt.title('Identified Patterns (Log Scale)')\n",
    "plt.grid(True)\n",
    "plt.show()"
   ]
  },
  {
   "cell_type": "code",
   "execution_count": 32,
   "metadata": {},
   "outputs": [
    {
     "data": {
      "text/html": [
       "<div>\n",
       "<style scoped>\n",
       "    .dataframe tbody tr th:only-of-type {\n",
       "        vertical-align: middle;\n",
       "    }\n",
       "\n",
       "    .dataframe tbody tr th {\n",
       "        vertical-align: top;\n",
       "    }\n",
       "\n",
       "    .dataframe thead th {\n",
       "        text-align: right;\n",
       "    }\n",
       "</style>\n",
       "<table border=\"1\" class=\"dataframe\">\n",
       "  <thead>\n",
       "    <tr style=\"text-align: right;\">\n",
       "      <th></th>\n",
       "      <th>MONTHLY OIL [m³]</th>\n",
       "      <th>MONTHLY WATER [m³]</th>\n",
       "      <th>Date</th>\n",
       "      <th>WOR</th>\n",
       "      <th>WOR'</th>\n",
       "      <th>Month_</th>\n",
       "      <th>Pattern</th>\n",
       "    </tr>\n",
       "  </thead>\n",
       "  <tbody>\n",
       "    <tr>\n",
       "      <th>0</th>\n",
       "      <td>118.3</td>\n",
       "      <td>0.0</td>\n",
       "      <td>1/1/1997</td>\n",
       "      <td>0.000000</td>\n",
       "      <td>0.000000</td>\n",
       "      <td>3</td>\n",
       "      <td>Constant WOR</td>\n",
       "    </tr>\n",
       "    <tr>\n",
       "      <th>1</th>\n",
       "      <td>9126.6</td>\n",
       "      <td>0.0</td>\n",
       "      <td>2/1/1997</td>\n",
       "      <td>0.000000</td>\n",
       "      <td>0.000000</td>\n",
       "      <td>6</td>\n",
       "      <td>Constant WOR</td>\n",
       "    </tr>\n",
       "    <tr>\n",
       "      <th>2</th>\n",
       "      <td>13228.3</td>\n",
       "      <td>0.0</td>\n",
       "      <td>3/1/1997</td>\n",
       "      <td>0.000000</td>\n",
       "      <td>0.000000</td>\n",
       "      <td>10</td>\n",
       "      <td>Constant WOR</td>\n",
       "    </tr>\n",
       "    <tr>\n",
       "      <th>3</th>\n",
       "      <td>10417.0</td>\n",
       "      <td>0.0</td>\n",
       "      <td>4/1/1997</td>\n",
       "      <td>0.000000</td>\n",
       "      <td>0.000000</td>\n",
       "      <td>15</td>\n",
       "      <td>Constant WOR</td>\n",
       "    </tr>\n",
       "    <tr>\n",
       "      <th>4</th>\n",
       "      <td>7370.6</td>\n",
       "      <td>0.0</td>\n",
       "      <td>5/1/1997</td>\n",
       "      <td>0.000000</td>\n",
       "      <td>0.000000</td>\n",
       "      <td>21</td>\n",
       "      <td>Constant WOR</td>\n",
       "    </tr>\n",
       "    <tr>\n",
       "      <th>...</th>\n",
       "      <td>...</td>\n",
       "      <td>...</td>\n",
       "      <td>...</td>\n",
       "      <td>...</td>\n",
       "      <td>...</td>\n",
       "      <td>...</td>\n",
       "      <td>...</td>\n",
       "    </tr>\n",
       "    <tr>\n",
       "      <th>617</th>\n",
       "      <td>26.5</td>\n",
       "      <td>72.1</td>\n",
       "      <td>2015-09-01 00:00:00</td>\n",
       "      <td>2.720755</td>\n",
       "      <td>0.012039</td>\n",
       "      <td>102534</td>\n",
       "      <td>None</td>\n",
       "    </tr>\n",
       "    <tr>\n",
       "      <th>618</th>\n",
       "      <td>60.4</td>\n",
       "      <td>37.9</td>\n",
       "      <td>2015-10-01 00:00:00</td>\n",
       "      <td>0.627483</td>\n",
       "      <td>0.002764</td>\n",
       "      <td>102761</td>\n",
       "      <td>None</td>\n",
       "    </tr>\n",
       "    <tr>\n",
       "      <th>619</th>\n",
       "      <td>18.9</td>\n",
       "      <td>75.3</td>\n",
       "      <td>2015-11-01 00:00:00</td>\n",
       "      <td>3.984127</td>\n",
       "      <td>0.017474</td>\n",
       "      <td>102989</td>\n",
       "      <td>None</td>\n",
       "    </tr>\n",
       "    <tr>\n",
       "      <th>620</th>\n",
       "      <td>33.6</td>\n",
       "      <td>81.4</td>\n",
       "      <td>2015-12-01 00:00:00</td>\n",
       "      <td>2.422619</td>\n",
       "      <td>0.010579</td>\n",
       "      <td>103218</td>\n",
       "      <td>None</td>\n",
       "    </tr>\n",
       "    <tr>\n",
       "      <th>621</th>\n",
       "      <td>33.4</td>\n",
       "      <td>67.8</td>\n",
       "      <td>2016-01-01 00:00:00</td>\n",
       "      <td>2.029940</td>\n",
       "      <td>0.008826</td>\n",
       "      <td>103448</td>\n",
       "      <td>None</td>\n",
       "    </tr>\n",
       "  </tbody>\n",
       "</table>\n",
       "<p>622 rows × 7 columns</p>\n",
       "</div>"
      ],
      "text/plain": [
       "     MONTHLY OIL [m³]      MONTHLY WATER [m³]                     Date  \\\n",
       "0                   118.3                     0.0             1/1/1997   \n",
       "1                  9126.6                     0.0             2/1/1997   \n",
       "2                 13228.3                     0.0             3/1/1997   \n",
       "3                 10417.0                     0.0             4/1/1997   \n",
       "4                  7370.6                     0.0             5/1/1997   \n",
       "..                    ...                     ...                  ...   \n",
       "617                  26.5                    72.1  2015-09-01 00:00:00   \n",
       "618                  60.4                    37.9  2015-10-01 00:00:00   \n",
       "619                  18.9                    75.3  2015-11-01 00:00:00   \n",
       "620                  33.6                    81.4  2015-12-01 00:00:00   \n",
       "621                  33.4                    67.8  2016-01-01 00:00:00   \n",
       "\n",
       "          WOR      WOR'  Month_       Pattern  \n",
       "0    0.000000  0.000000       3  Constant WOR  \n",
       "1    0.000000  0.000000       6  Constant WOR  \n",
       "2    0.000000  0.000000      10  Constant WOR  \n",
       "3    0.000000  0.000000      15  Constant WOR  \n",
       "4    0.000000  0.000000      21  Constant WOR  \n",
       "..        ...       ...     ...           ...  \n",
       "617  2.720755  0.012039  102534          None  \n",
       "618  0.627483  0.002764  102761          None  \n",
       "619  3.984127  0.017474  102989          None  \n",
       "620  2.422619  0.010579  103218          None  \n",
       "621  2.029940  0.008826  103448          None  \n",
       "\n",
       "[622 rows x 7 columns]"
      ]
     },
     "execution_count": 32,
     "metadata": {},
     "output_type": "execute_result"
    }
   ],
   "source": [
    "df3"
   ]
  },
  {
   "cell_type": "code",
   "execution_count": 34,
   "metadata": {},
   "outputs": [
    {
     "data": {
      "text/plain": [
       "array(['Constant WOR', None], dtype=object)"
      ]
     },
     "execution_count": 34,
     "metadata": {},
     "output_type": "execute_result"
    }
   ],
   "source": [
    "df3['Pattern'].unique()"
   ]
  },
  {
   "cell_type": "code",
   "execution_count": 36,
   "metadata": {},
   "outputs": [
    {
     "data": {
      "text/plain": [
       "Constant WOR    13\n",
       "Name: Pattern, dtype: int64"
      ]
     },
     "execution_count": 36,
     "metadata": {},
     "output_type": "execute_result"
    }
   ],
   "source": [
    "df3['Pattern'].value_counts()"
   ]
  },
  {
   "cell_type": "code",
   "execution_count": 50,
   "metadata": {},
   "outputs": [
    {
     "data": {
      "text/plain": [
       "MONTHLY OIL [m³]          0\n",
       "MONTHLY WATER [m³]        0\n",
       "Date                      0\n",
       "WOR                       0\n",
       "WOR'                      0\n",
       "Month_                    0\n",
       "Pattern                   0\n",
       "dtype: int64"
      ]
     },
     "execution_count": 50,
     "metadata": {},
     "output_type": "execute_result"
    }
   ],
   "source": [
    "df3.isna().sum()"
   ]
  },
  {
   "cell_type": "code",
   "execution_count": 49,
   "metadata": {},
   "outputs": [],
   "source": [
    "df3=df3.dropna()"
   ]
  },
  {
   "cell_type": "markdown",
   "metadata": {},
   "source": [
    "## Models"
   ]
  },
  {
   "cell_type": "code",
   "execution_count": 37,
   "metadata": {},
   "outputs": [],
   "source": [
    "from sklearn import svm\n",
    "from sklearn.model_selection import train_test_split\n",
    "from sklearn.metrics import accuracy_score"
   ]
  },
  {
   "cell_type": "code",
   "execution_count": 38,
   "metadata": {},
   "outputs": [
    {
     "data": {
      "text/plain": [
       "Index(['MONTHLY OIL [m³]    ', 'MONTHLY WATER [m³]    ', 'Date', 'WOR', 'WOR'',\n",
       "       'Month_', 'Pattern'],\n",
       "      dtype='object')"
      ]
     },
     "execution_count": 38,
     "metadata": {},
     "output_type": "execute_result"
    }
   ],
   "source": [
    "df3.columns"
   ]
  },
  {
   "cell_type": "code",
   "execution_count": 55,
   "metadata": {},
   "outputs": [],
   "source": [
    "X = df3[['WOR',\"WOR'\"]]  # Replace 'target_column_name' with the name of your target column\n",
    "Y = df3['Pattern']"
   ]
  },
  {
   "cell_type": "code",
   "execution_count": 65,
   "metadata": {},
   "outputs": [],
   "source": [
    "X_train, X_test, Y_train, Y_test = train_test_split(X, Y, test_size=0.6, random_state=42)"
   ]
  },
  {
   "cell_type": "code",
   "execution_count": 66,
   "metadata": {},
   "outputs": [],
   "source": [
    "clf = svm.SVC(kernel='linear')  # You can choose different kernels like 'linear', 'rbf', 'poly', etc."
   ]
  },
  {
   "cell_type": "code",
   "execution_count": 70,
   "metadata": {},
   "outputs": [
    {
     "name": "stdout",
     "output_type": "stream",
     "text": [
      "Collecting imblearn\n",
      "  Downloading imblearn-0.0-py2.py3-none-any.whl (1.9 kB)\n",
      "Collecting imbalanced-learn (from imblearn)\n",
      "  Downloading imbalanced_learn-0.11.0-py3-none-any.whl (235 kB)\n",
      "     ------------------------------------ 235.6/235.6 kB 232.6 kB/s eta 0:00:00\n",
      "Requirement already satisfied: numpy>=1.17.3 in c:\\users\\abhigyan\\appdata\\local\\programs\\python\\python310\\lib\\site-packages (from imbalanced-learn->imblearn) (1.23.3)\n",
      "Requirement already satisfied: scipy>=1.5.0 in c:\\users\\abhigyan\\appdata\\local\\programs\\python\\python310\\lib\\site-packages (from imbalanced-learn->imblearn) (1.10.1)\n",
      "Requirement already satisfied: scikit-learn>=1.0.2 in c:\\users\\abhigyan\\appdata\\local\\programs\\python\\python310\\lib\\site-packages (from imbalanced-learn->imblearn) (1.2.2)\n",
      "Requirement already satisfied: joblib>=1.1.1 in c:\\users\\abhigyan\\appdata\\local\\programs\\python\\python310\\lib\\site-packages (from imbalanced-learn->imblearn) (1.2.0)\n",
      "Requirement already satisfied: threadpoolctl>=2.0.0 in c:\\users\\abhigyan\\appdata\\local\\programs\\python\\python310\\lib\\site-packages (from imbalanced-learn->imblearn) (3.1.0)\n",
      "Installing collected packages: imbalanced-learn, imblearn\n",
      "Successfully installed imbalanced-learn-0.11.0 imblearn-0.0\n"
     ]
    },
    {
     "name": "stderr",
     "output_type": "stream",
     "text": [
      "\n",
      "[notice] A new release of pip is available: 23.1.2 -> 23.2.1\n",
      "[notice] To update, run: python.exe -m pip install --upgrade pip\n"
     ]
    }
   ],
   "source": [
    "!pip install imblearn"
   ]
  },
  {
   "cell_type": "code",
   "execution_count": 78,
   "metadata": {},
   "outputs": [],
   "source": [
    "from imblearn.over_sampling import RandomOverSampler\n",
    "oversampler = RandomOverSampler(random_state=42)"
   ]
  },
  {
   "cell_type": "code",
   "execution_count": 79,
   "metadata": {},
   "outputs": [
    {
     "ename": "ValueError",
     "evalue": "The target 'y' needs to have more than 1 class. Got 1 class instead",
     "output_type": "error",
     "traceback": [
      "\u001b[1;31m---------------------------------------------------------------------------\u001b[0m",
      "\u001b[1;31mValueError\u001b[0m                                Traceback (most recent call last)",
      "\u001b[1;32mc:\\Users\\Abhigyan\\Desktop\\Chan plot\\NEW.ipynb Cell 25\u001b[0m line \u001b[0;36m<cell line: 1>\u001b[1;34m()\u001b[0m\n\u001b[1;32m----> <a href='vscode-notebook-cell:/c%3A/Users/Abhigyan/Desktop/Chan%20plot/NEW.ipynb#X40sZmlsZQ%3D%3D?line=0'>1</a>\u001b[0m X_train_resampled, Y_train_resampled \u001b[39m=\u001b[39m oversampler\u001b[39m.\u001b[39;49mfit_resample(X_train, Y_train)\n",
      "File \u001b[1;32mc:\\Users\\Abhigyan\\AppData\\Local\\Programs\\Python\\Python310\\lib\\site-packages\\imblearn\\base.py:208\u001b[0m, in \u001b[0;36mBaseSampler.fit_resample\u001b[1;34m(self, X, y)\u001b[0m\n\u001b[0;32m    187\u001b[0m \u001b[39m\"\"\"Resample the dataset.\u001b[39;00m\n\u001b[0;32m    188\u001b[0m \n\u001b[0;32m    189\u001b[0m \u001b[39mParameters\u001b[39;00m\n\u001b[1;32m   (...)\u001b[0m\n\u001b[0;32m    205\u001b[0m \u001b[39m    The corresponding label of `X_resampled`.\u001b[39;00m\n\u001b[0;32m    206\u001b[0m \u001b[39m\"\"\"\u001b[39;00m\n\u001b[0;32m    207\u001b[0m \u001b[39mself\u001b[39m\u001b[39m.\u001b[39m_validate_params()\n\u001b[1;32m--> 208\u001b[0m \u001b[39mreturn\u001b[39;00m \u001b[39msuper\u001b[39;49m()\u001b[39m.\u001b[39;49mfit_resample(X, y)\n",
      "File \u001b[1;32mc:\\Users\\Abhigyan\\AppData\\Local\\Programs\\Python\\Python310\\lib\\site-packages\\imblearn\\base.py:108\u001b[0m, in \u001b[0;36mSamplerMixin.fit_resample\u001b[1;34m(self, X, y)\u001b[0m\n\u001b[0;32m    105\u001b[0m arrays_transformer \u001b[39m=\u001b[39m ArraysTransformer(X, y)\n\u001b[0;32m    106\u001b[0m X, y, binarize_y \u001b[39m=\u001b[39m \u001b[39mself\u001b[39m\u001b[39m.\u001b[39m_check_X_y(X, y)\n\u001b[1;32m--> 108\u001b[0m \u001b[39mself\u001b[39m\u001b[39m.\u001b[39msampling_strategy_ \u001b[39m=\u001b[39m check_sampling_strategy(\n\u001b[0;32m    109\u001b[0m     \u001b[39mself\u001b[39;49m\u001b[39m.\u001b[39;49msampling_strategy, y, \u001b[39mself\u001b[39;49m\u001b[39m.\u001b[39;49m_sampling_type\n\u001b[0;32m    110\u001b[0m )\n\u001b[0;32m    112\u001b[0m output \u001b[39m=\u001b[39m \u001b[39mself\u001b[39m\u001b[39m.\u001b[39m_fit_resample(X, y)\n\u001b[0;32m    114\u001b[0m y_ \u001b[39m=\u001b[39m (\n\u001b[0;32m    115\u001b[0m     label_binarize(output[\u001b[39m1\u001b[39m], classes\u001b[39m=\u001b[39mnp\u001b[39m.\u001b[39munique(y)) \u001b[39mif\u001b[39;00m binarize_y \u001b[39melse\u001b[39;00m output[\u001b[39m1\u001b[39m]\n\u001b[0;32m    116\u001b[0m )\n",
      "File \u001b[1;32mc:\\Users\\Abhigyan\\AppData\\Local\\Programs\\Python\\Python310\\lib\\site-packages\\imblearn\\utils\\_validation.py:516\u001b[0m, in \u001b[0;36mcheck_sampling_strategy\u001b[1;34m(sampling_strategy, y, sampling_type, **kwargs)\u001b[0m\n\u001b[0;32m    510\u001b[0m     \u001b[39mraise\u001b[39;00m \u001b[39mValueError\u001b[39;00m(\n\u001b[0;32m    511\u001b[0m         \u001b[39mf\u001b[39m\u001b[39m\"\u001b[39m\u001b[39m'\u001b[39m\u001b[39msampling_type\u001b[39m\u001b[39m'\u001b[39m\u001b[39m should be one of \u001b[39m\u001b[39m{\u001b[39;00mSAMPLING_KIND\u001b[39m}\u001b[39;00m\u001b[39m. \u001b[39m\u001b[39m\"\u001b[39m\n\u001b[0;32m    512\u001b[0m         \u001b[39mf\u001b[39m\u001b[39m\"\u001b[39m\u001b[39mGot \u001b[39m\u001b[39m'\u001b[39m\u001b[39m{\u001b[39;00msampling_type\u001b[39m}\u001b[39;00m\u001b[39m instead.\u001b[39m\u001b[39m\"\u001b[39m\n\u001b[0;32m    513\u001b[0m     )\n\u001b[0;32m    515\u001b[0m \u001b[39mif\u001b[39;00m np\u001b[39m.\u001b[39munique(y)\u001b[39m.\u001b[39msize \u001b[39m<\u001b[39m\u001b[39m=\u001b[39m \u001b[39m1\u001b[39m:\n\u001b[1;32m--> 516\u001b[0m     \u001b[39mraise\u001b[39;00m \u001b[39mValueError\u001b[39;00m(\n\u001b[0;32m    517\u001b[0m         \u001b[39mf\u001b[39m\u001b[39m\"\u001b[39m\u001b[39mThe target \u001b[39m\u001b[39m'\u001b[39m\u001b[39my\u001b[39m\u001b[39m'\u001b[39m\u001b[39m needs to have more than 1 class. \u001b[39m\u001b[39m\"\u001b[39m\n\u001b[0;32m    518\u001b[0m         \u001b[39mf\u001b[39m\u001b[39m\"\u001b[39m\u001b[39mGot \u001b[39m\u001b[39m{\u001b[39;00mnp\u001b[39m.\u001b[39munique(y)\u001b[39m.\u001b[39msize\u001b[39m}\u001b[39;00m\u001b[39m class instead\u001b[39m\u001b[39m\"\u001b[39m\n\u001b[0;32m    519\u001b[0m     )\n\u001b[0;32m    521\u001b[0m \u001b[39mif\u001b[39;00m sampling_type \u001b[39min\u001b[39;00m (\u001b[39m\"\u001b[39m\u001b[39mensemble\u001b[39m\u001b[39m\"\u001b[39m, \u001b[39m\"\u001b[39m\u001b[39mbypass\u001b[39m\u001b[39m\"\u001b[39m):\n\u001b[0;32m    522\u001b[0m     \u001b[39mreturn\u001b[39;00m sampling_strategy\n",
      "\u001b[1;31mValueError\u001b[0m: The target 'y' needs to have more than 1 class. Got 1 class instead"
     ]
    }
   ],
   "source": [
    "X_train_resampled, Y_train_resampled = oversampler.fit_resample(X_train, Y_train)"
   ]
  },
  {
   "cell_type": "code",
   "execution_count": 77,
   "metadata": {},
   "outputs": [
    {
     "ename": "NameError",
     "evalue": "name 'X_train_resampled' is not defined",
     "output_type": "error",
     "traceback": [
      "\u001b[1;31m---------------------------------------------------------------------------\u001b[0m",
      "\u001b[1;31mNameError\u001b[0m                                 Traceback (most recent call last)",
      "\u001b[1;32mc:\\Users\\Abhigyan\\Desktop\\Chan plot\\NEW.ipynb Cell 26\u001b[0m line \u001b[0;36m<cell line: 1>\u001b[1;34m()\u001b[0m\n\u001b[1;32m----> <a href='vscode-notebook-cell:/c%3A/Users/Abhigyan/Desktop/Chan%20plot/NEW.ipynb#X41sZmlsZQ%3D%3D?line=0'>1</a>\u001b[0m clf\u001b[39m.\u001b[39mfit(X_train_resampled, Y_train_resampled)\n",
      "\u001b[1;31mNameError\u001b[0m: name 'X_train_resampled' is not defined"
     ]
    }
   ],
   "source": [
    "clf.fit(X_train_resampled, Y_train_resampled)"
   ]
  },
  {
   "cell_type": "markdown",
   "metadata": {},
   "source": [
    "clf.fit(X_train, Y_train)"
   ]
  },
  {
   "cell_type": "code",
   "execution_count": null,
   "metadata": {},
   "outputs": [],
   "source": []
  },
  {
   "cell_type": "code",
   "execution_count": null,
   "metadata": {},
   "outputs": [],
   "source": []
  }
 ],
 "metadata": {
  "kernelspec": {
   "display_name": "Python 3",
   "language": "python",
   "name": "python3"
  },
  "language_info": {
   "codemirror_mode": {
    "name": "ipython",
    "version": 3
   },
   "file_extension": ".py",
   "mimetype": "text/x-python",
   "name": "python",
   "nbconvert_exporter": "python",
   "pygments_lexer": "ipython3",
   "version": "3.10.6"
  },
  "orig_nbformat": 4
 },
 "nbformat": 4,
 "nbformat_minor": 2
}
